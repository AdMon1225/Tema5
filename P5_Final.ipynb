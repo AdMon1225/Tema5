{
 "cells": [
  {
   "cell_type": "markdown",
   "id": "548c26c6",
   "metadata": {},
   "source": [
    "---\n",
    "### Universidad de Costa Rica\n",
    "#### IE0405 - Modelos Probabilísticos de Señales y Sistemas\n",
    "---\n",
    "- Estudiante: **Adrián Montero Bonilla**\n",
    "- Carné: **B85092**\n",
    "- Grupo: **1/2**\n",
    "---\n",
    "- Estudiante: ****\n",
    "- Carné: ****\n",
    "- Grupo: **1/2**\n",
    "---\n",
    "\n",
    "# Solución del Proyecto 5 - Procesos M/M/s\n",
    "\n",
    "### Primera parte: Determinación teórica del número  de servidores necesarios para cumplir el requisito.\n",
    "---\n",
    "#### Los datos del enunciado son:\n",
    "\n",
    "$\\lambda = 4$\n",
    "\n",
    "$\\nu = 0.25$\n",
    "\n",
    "Además, se quiere el sistema no exceda 50 personas en fila durante el 95% del tiempo. \n",
    "\n",
    "---\n",
    "\n",
    "Se sabe de la teoría que $\\rho = \\frac{\\lambda}{s\\nu}$ y, al sustituir con los datos dados por el enunciado, dicha expresión queda de la siguiente manera:\n",
    "\n",
    "$$\n",
    "\\rho = \\frac{4}{0.25s} = \\frac{16}{s} \\space \\space \\space \\space \\space \\space (1)\n",
    "$$\n",
    "\n",
    "Por otro lado, recordando la suma de probabilidad de estado estable, con las condiciones anteriormente dadas (menos de 50 personas en fila por el 95% del tiempo), se tiene la siguiente relación:\n",
    "\n",
    "$$\n",
    "P( \\text{51 o más clientes en el sistema} ) = \\sum_{i=51}^{\\infty} (1 - \\rho) \\rho^i  = 1 - \\sum_{i=0}^{50} (1 - \\rho) \\rho^i = \\rho^{51}\n",
    "$$\n",
    "\n",
    "Con esto, se tiene la condición:\n",
    "\n",
    "$$\n",
    "\\rho^{51} \\leq 0.05 \\space \\space \\space \\space \\space \\space (2)\n",
    "$$\n",
    "\n",
    "Al sustituir el valor de $\\rho$ de la ecuación (1) en (2) se consigue lo siguiente:\n",
    "\n",
    "$$\n",
    "\\left(\\frac{16}{s}\\right)^{51} \\leq 0.05\n",
    "$$\n",
    "\n",
    "A partir de esta ecuación, despejamos para s y obtenemos la cantidad mínima de servidores necesaria para cumplir con los requisitos solicitados.\n",
    "\n",
    "$$\n",
    "\\frac{16}{s} \\leq \\sqrt[51]{0.05}\n",
    "$$\n",
    "\n",
    "$$\n",
    "\\frac{16}{\\sqrt[51]{0.05}} \\leq s\n",
    "$$\n",
    "\n",
    "$$\n",
    "s \\geq 16.9679\n",
    "$$\n",
    "\n",
    "Finalmente, se llega a que se necesitan 17 o más servidores en total (no se pueden tener fracciones de servidores, solamente servidores enteros) para cumplir con todos los requerimientos solicitados para el proceso de vacunación. "
   ]
  },
  {
   "cell_type": "markdown",
   "id": "feb7e2e6",
   "metadata": {},
   "source": [
    "### Segunda parte: Simulación y corroboración del resultado obtenido en la primera parte. "
   ]
  }
 ],
 "metadata": {
  "kernelspec": {
   "display_name": "Python 3",
   "language": "python",
   "name": "python3"
  },
  "language_info": {
   "codemirror_mode": {
    "name": "ipython",
    "version": 3
   },
   "file_extension": ".py",
   "mimetype": "text/x-python",
   "name": "python",
   "nbconvert_exporter": "python",
   "pygments_lexer": "ipython3",
   "version": "3.7.11"
  }
 },
 "nbformat": 4,
 "nbformat_minor": 5
}
